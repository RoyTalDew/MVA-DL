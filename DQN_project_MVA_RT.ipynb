{
  "nbformat": 4,
  "nbformat_minor": 0,
  "metadata": {
    "colab": {
      "name": "DQN_project_MVA_RT.ipynb",
      "provenance": [],
      "collapsed_sections": []
    },
    "kernelspec": {
      "display_name": "Python 3",
      "language": "python",
      "name": "python3"
    },
    "language_info": {
      "codemirror_mode": {
        "name": "ipython",
        "version": 3
      },
      "file_extension": ".py",
      "mimetype": "text/x-python",
      "name": "python",
      "nbconvert_exporter": "python",
      "pygments_lexer": "ipython3",
      "version": "3.7.4"
    }
  },
  "cells": [
    {
      "cell_type": "markdown",
      "metadata": {
        "colab_type": "text",
        "id": "d3RQTDrO11yQ"
      },
      "source": [
        "**You may need to install [OpenCV](https://pypi.python.org/pypi/opencv-python) and [scikit-video](http://www.scikit-video.org/stable/).**"
      ]
    },
    {
      "cell_type": "code",
      "metadata": {
        "id": "HfizI2fZzFYa",
        "colab_type": "code",
        "outputId": "af2e7847-b2fb-4397-f98b-c16f0356177f",
        "colab": {
          "base_uri": "https://localhost:8080/",
          "height": 139
        }
      },
      "source": [
        "!pip install scikit-video\n",
        "!pip install opencv-contrib-python"
      ],
      "execution_count": 127,
      "outputs": [
        {
          "output_type": "stream",
          "text": [
            "Requirement already satisfied: scikit-video in /usr/local/lib/python3.6/dist-packages (1.1.11)\n",
            "Requirement already satisfied: numpy in /usr/local/lib/python3.6/dist-packages (from scikit-video) (1.17.5)\n",
            "Requirement already satisfied: pillow in /usr/local/lib/python3.6/dist-packages (from scikit-video) (6.2.2)\n",
            "Requirement already satisfied: scipy in /usr/local/lib/python3.6/dist-packages (from scikit-video) (1.4.1)\n",
            "Requirement already satisfied: opencv-contrib-python in /usr/local/lib/python3.6/dist-packages (4.1.2.30)\n",
            "Requirement already satisfied: numpy>=1.11.3 in /usr/local/lib/python3.6/dist-packages (from opencv-contrib-python) (1.17.5)\n"
          ],
          "name": "stdout"
        }
      ]
    },
    {
      "cell_type": "code",
      "metadata": {
        "colab_type": "code",
        "id": "W8Rr6Ts-11yT",
        "colab": {}
      },
      "source": [
        "import keras\n",
        "import numpy as np\n",
        "import io\n",
        "import base64\n",
        "from IPython.display import HTML\n",
        "import skvideo.io as skvideo\n",
        "import cv2\n",
        "import json\n",
        "from pathlib import Path\n",
        "\n",
        "from keras.models import Sequential,model_from_json\n",
        "from keras.layers.core import Dense\n",
        "from keras.optimizers import sgd, Adam\n",
        "from keras.layers import Conv2D, MaxPooling2D, Activation, AveragePooling2D, Reshape, BatchNormalization, Flatten"
      ],
      "execution_count": 0,
      "outputs": []
    },
    {
      "cell_type": "markdown",
      "metadata": {
        "colab_type": "text",
        "id": "XzX5wYyI11yY"
      },
      "source": [
        "# MiniProject on Deep Reinforcement Learning"
      ]
    },
    {
      "cell_type": "markdown",
      "metadata": {
        "colab_type": "text",
        "id": "ITSs6BCk11yZ"
      },
      "source": [
        "__Notations__: $E_p$ is the expectation under probability $p$. Please justify each of your answer and widely comment your code."
      ]
    },
    {
      "cell_type": "markdown",
      "metadata": {
        "colab_type": "text",
        "id": "BjWQ1yrK11ya"
      },
      "source": [
        "# Context"
      ]
    },
    {
      "cell_type": "markdown",
      "metadata": {
        "colab_type": "text",
        "id": "sCYqi9C811yb"
      },
      "source": [
        "In a reinforcement learning algorithm, we modelize each step $t$ as an action $a_t$ obtained from a state $s_t$, i.e. $\\{(a_{t},s_{t})_{t\\leq T}\\}$ having the Markov property. We consider a discount factor $\\gamma \\in [0,1]$ that ensures convergence. The goal is to find among all the policies $\\pi$, one that maximizes the expected reward:\n",
        "\n",
        "\\begin{equation*}\n",
        "R(\\pi)=\\sum_{t\\leq T}E_{p^{\\pi}}[\\gamma^t r(s_{t},a_{t})] \\> ,\n",
        "\\end{equation*}\n",
        "\n",
        "where: \n",
        "\\begin{equation*}p^{\\pi}(a_{0},a_{1},s_{1},...,a_{T},s_{T})=p(a_{0})\\prod_{t=1}^{T}\\pi(a_{t}|s_{t})p(s_{t+1}|s_{t},a_{t}) \\> .\n",
        "\\end{equation*}\n",
        "\n",
        "We note the $Q$-function:\n",
        "\n",
        "\\begin{equation*}Q^\\pi(s,a)=E_{p^{\\pi}}[\\sum_{t\\leq T}\\gamma^{t}r(s_{t},a_{t})|s_{0}=s,a_{0}=a] \\> .\n",
        "\\end{equation*}\n",
        "\n",
        "Thus, the optimal Q function is:\n",
        "\\begin{equation*}\n",
        "Q^*(s,a)=\\max_{\\pi}Q^\\pi(s,a) \\> .\n",
        "\\end{equation*}\n",
        "\n",
        "In this project, we will apply the deep reinforcement learning techniques to a simple game: an agent will have to learn from scratch a policy that will permit it maximizing a reward."
      ]
    },
    {
      "cell_type": "markdown",
      "metadata": {
        "colab_type": "text",
        "id": "iieVpOTN11yc"
      },
      "source": [
        "## The environment, the agent and the game"
      ]
    },
    {
      "cell_type": "markdown",
      "metadata": {
        "colab_type": "text",
        "id": "SOdCtkfF11yd"
      },
      "source": [
        "### The environment"
      ]
    },
    {
      "cell_type": "markdown",
      "metadata": {
        "colab_type": "text",
        "id": "enH0A3fV11yd"
      },
      "source": [
        "```Environment``` is an abstract class that represents the states, rewards, and actions to obtain the new state."
      ]
    },
    {
      "cell_type": "code",
      "metadata": {
        "colab_type": "code",
        "id": "hzROtuJF11ye",
        "colab": {}
      },
      "source": [
        "class Environment(object):\n",
        "    def __init__(self):\n",
        "        pass\n",
        "\n",
        "    def act(self, act):\n",
        "        \"\"\"\n",
        "        One can act on the environment and obtain its reaction:\n",
        "        - the new state\n",
        "        - the reward of the new state\n",
        "        - should we continue the game?\n",
        "\n",
        "        :return: state, reward, game_over\n",
        "        \"\"\"\n",
        "        pass\n",
        "\n",
        "\n",
        "    def reset(self):\n",
        "        \"\"\"\n",
        "        Reinitialize the environment to a random state and returns\n",
        "        the original state\n",
        "\n",
        "        :return: state\n",
        "        \"\"\"\n",
        "        pass\n",
        "    \n",
        "    def draw(self):\n",
        "        \"\"\"\n",
        "        Visualize in the console or graphically the current state\n",
        "        \"\"\"\n",
        "        pass"
      ],
      "execution_count": 0,
      "outputs": []
    },
    {
      "cell_type": "markdown",
      "metadata": {
        "colab_type": "text",
        "id": "xxmL5_za11yh"
      },
      "source": [
        "The method ```act``` allows to act on the environment at a given state $s_t$ (stored internally), via action $a_t$. The method will return the new state $s_{t+1}$, the reward $r(s_{t},a_{t})$ and determines if $t\\leq T$ (*game_over*).\n",
        "\n",
        "The method ```reset``` simply reinitializes the environment to a random state $s_0$.\n",
        "\n",
        "The method ```draw``` displays the current state $s_t$ (this is useful to check the behavior of the Agent).\n",
        "\n",
        "We modelize $s_t$ as a tensor, while $a_t$ is an integer."
      ]
    },
    {
      "cell_type": "markdown",
      "metadata": {
        "colab_type": "text",
        "id": "4f58dEnH11yi"
      },
      "source": [
        "### The Agent"
      ]
    },
    {
      "cell_type": "markdown",
      "metadata": {
        "colab_type": "text",
        "id": "jwX5lx6V11yj"
      },
      "source": [
        "The goal of the ```Agent``` is to interact with the ```Environment``` by proposing actions $a_t$ obtained from a given state $s_t$ to attempt to maximize its __reward__ $r(s_t,a_t)$. We propose the following abstract class:"
      ]
    },
    {
      "cell_type": "code",
      "metadata": {
        "colab_type": "code",
        "id": "zpQnyQt-11yk",
        "colab": {}
      },
      "source": [
        "class Agent(object):\n",
        "    def __init__(self, epsilon=0.1, n_action=4):\n",
        "        self.epsilon = epsilon\n",
        "        self.n_action = n_action\n",
        "    \n",
        "    def set_epsilon(self,e):\n",
        "        self.epsilon = e\n",
        "\n",
        "    def act(self,s,train=True):\n",
        "        \"\"\" This function should return the next action to do:\n",
        "        an integer between 0 and 4 (not included) with a random exploration of epsilon\"\"\"\n",
        "        if train:\n",
        "            if np.random.rand() <= self.epsilon:\n",
        "                a = np.random.randint(0, self.n_action, size=1)[0]\n",
        "            else:\n",
        "                a = self.learned_act(s)\n",
        "        else: # in some cases, this can improve the performance.. remove it if poor performances\n",
        "            a = self.learned_act(s)\n",
        "\n",
        "        return a\n",
        "\n",
        "    def learned_act(self,s):\n",
        "        \"\"\" Act via the policy of the agent, from a given state s\n",
        "        it proposes an action a\"\"\"\n",
        "        pass\n",
        "\n",
        "    def reinforce(self, s, n_s, a, r, game_over_):\n",
        "        \"\"\" This function is the core of the learning algorithm. \n",
        "        It takes as an input the current state s_, the next state n_s_\n",
        "        the action a_ used to move from s_ to n_s_ and the reward r_.\n",
        "        \n",
        "        Its goal is to learn a policy.\n",
        "        \"\"\"\n",
        "        pass\n",
        "\n",
        "    def save(self):\n",
        "        \"\"\" This function returns basic stats if applicable: the\n",
        "        loss and/or the model\"\"\"\n",
        "        pass\n",
        "\n",
        "    def load(self):\n",
        "        \"\"\" This function allows to restore a model\"\"\"\n",
        "        pass"
      ],
      "execution_count": 0,
      "outputs": []
    },
    {
      "cell_type": "markdown",
      "metadata": {
        "colab_type": "text",
        "id": "h2CtvF9n11yn"
      },
      "source": [
        "***\n",
        "__Question 1__:\n",
        "Explain the function act. Why is ```epsilon``` essential?"
      ]
    },
    {
      "cell_type": "markdown",
      "metadata": {
        "colab_type": "text",
        "id": "dm7TQFKM11yo"
      },
      "source": [
        "Within the act function, the agent chooses (with a probability of epsilon) a random action randomly at uniform. On the other hand, the agent selects an action based on a learned policy with a probability of 1-epsilon. This forms the underlying exploration-exploitation tradeoff that is fundamental to reinforcement learning. A small value for epsilon leads to behavior that favors exploiting the learned policy; if epsilon is too small, the agent can converge to a suboptimal policy by exploiting what it learns early on in the task and disregarding other policies that are potentially more optimal (this characterizes a greedy agent). In contrast, a high value for epsilon causes the agent to constantly explore, which reduces the cumulative reward accrued over time, which is the ultimate goal of a reinforcement learning agent. Therefore, a balance between exploration and exploitation is necessary in order to learn the optimal policy while also maximizing future reward. There are other more sophisticated techniques to the epsilon greedy (e.g. using a softmax)."
      ]
    },
    {
      "cell_type": "markdown",
      "metadata": {
        "colab_type": "text",
        "id": "YEDHahNV11yo"
      },
      "source": [
        "***\n",
        "### The Game"
      ]
    },
    {
      "cell_type": "markdown",
      "metadata": {
        "colab_type": "text",
        "id": "GssBLcQu11yp"
      },
      "source": [
        "The ```Agent``` and the ```Environment``` work in an interlaced way as in the following (take some time to understand this code as it is the core of the project)\n",
        "\n",
        "```python\n",
        "\n",
        "epoch = 300\n",
        "env = Environment()\n",
        "agent = Agent()\n",
        "\n",
        "\n",
        "# Number of won games\n",
        "score = 0\n",
        "loss = 0\n",
        "\n",
        "\n",
        "for e in range(epoch):\n",
        "    # At each epoch, we restart to a fresh game and get the initial state\n",
        "    state = env.reset()\n",
        "    # This assumes that the games will end\n",
        "    game_over = False\n",
        "\n",
        "    win = 0\n",
        "    lose = 0\n",
        "    \n",
        "    while not game_over:\n",
        "        # The agent performs an action\n",
        "        action = agent.act(state)\n",
        "\n",
        "        # Apply an action to the environment, get the next state, the reward\n",
        "        # and if the games end\n",
        "        prev_state = state\n",
        "        state, reward, game_over = env.act(action)\n",
        "\n",
        "        # Update the counters\n",
        "        if reward > 0:\n",
        "            win = win + reward\n",
        "        if reward < 0:\n",
        "            lose = lose -reward\n",
        "\n",
        "        # Apply the reinforcement strategy\n",
        "        loss = agent.reinforce(prev_state, state,  action, reward, game_over)\n",
        "\n",
        "    # Save as a mp4\n",
        "    if e % 10 == 0:\n",
        "        env.draw(e)\n",
        "\n",
        "    # Update stats\n",
        "    score += win-lose\n",
        "\n",
        "    print(\"Epoch {:03d}/{:03d} | Loss {:.4f} | Win/lose count {}/{} ({})\"\n",
        "          .format(e, epoch, loss, win, lose, win-lose))\n",
        "    agent.save()\n",
        "```"
      ]
    },
    {
      "cell_type": "markdown",
      "metadata": {
        "colab_type": "text",
        "id": "g-6PSz9h11yq"
      },
      "source": [
        "# The game, *eat cheese*"
      ]
    },
    {
      "cell_type": "markdown",
      "metadata": {
        "colab_type": "text",
        "id": "vKsovO9y11yr"
      },
      "source": [
        "A rat runs on an island and tries to eat as much as possible. The island is subdivided into $N\\times N$ cells, in which there are cheese (+0.5) and poisonous cells (-1). The rat has a visibility of 2 cells (thus it can see $5^2$ cells). The rat is given a time $T$ to accumulate as much food as possible. It can perform 4 actions: going up, down, left, right. \n",
        "\n",
        "The goal is to code an agent to solve this task that will learn by trial and error. We propose the following environment:"
      ]
    },
    {
      "cell_type": "code",
      "metadata": {
        "colab_type": "code",
        "id": "bjTttCM811yr",
        "colab": {}
      },
      "source": [
        "class Environment(object):\n",
        "    def __init__(self, grid_size=10, max_time=500, temperature=0.1):\n",
        "        grid_size = grid_size+4\n",
        "        self.grid_size = grid_size\n",
        "        self.max_time = max_time\n",
        "        self.temperature = temperature\n",
        "\n",
        "        #board on which one plays\n",
        "        self.board = np.zeros((grid_size,grid_size))\n",
        "        self.position = np.zeros((grid_size,grid_size))\n",
        "\n",
        "        # coordinate of the cat\n",
        "        self.x = 0\n",
        "        self.y = 1\n",
        "\n",
        "        # self time\n",
        "        self.t = 0\n",
        "\n",
        "        self.scale=16\n",
        "\n",
        "        self.to_draw = np.zeros((max_time+2, grid_size*self.scale, grid_size*self.scale, 3))\n",
        "\n",
        "\n",
        "    def draw(self,e):\n",
        "        skvideo.io.vwrite(str(e) + '.mp4', self.to_draw)\n",
        "\n",
        "    def get_frame(self,t):\n",
        "        b = np.zeros((self.grid_size,self.grid_size,3))+128\n",
        "        b[self.board>0,0] = 256\n",
        "        b[self.board < 0, 2] = 256\n",
        "        b[self.x,self.y,:]=256\n",
        "        b[-2:,:,:]=0\n",
        "        b[:,-2:,:]=0\n",
        "        b[:2,:,:]=0\n",
        "        b[:,:2,:]=0\n",
        "        \n",
        "        b =  cv2.resize(b, None, fx=self.scale, fy=self.scale, interpolation=cv2.INTER_NEAREST)\n",
        "\n",
        "        self.to_draw[t,:,:,:]=b\n",
        "\n",
        "\n",
        "    def act(self, action):\n",
        "        \"\"\"This function returns the new state, reward and decides if the\n",
        "        game ends.\"\"\"\n",
        "\n",
        "        self.get_frame(int(self.t))\n",
        "\n",
        "        self.position = np.zeros((self.grid_size, self.grid_size))\n",
        "\n",
        "        self.position[0:2,:]= -1\n",
        "        self.position[:,0:2] = -1\n",
        "        self.position[-2:, :] = -1\n",
        "        self.position[-2:, :] = -1\n",
        "\n",
        "        self.position[self.x, self.y] = 1\n",
        "        if action == 0:\n",
        "            if self.x == self.grid_size-3:\n",
        "                self.x = self.x-1\n",
        "            else:\n",
        "                self.x = self.x + 1\n",
        "        elif action == 1:\n",
        "            if self.x == 2:\n",
        "                self.x = self.x+1\n",
        "            else:\n",
        "                self.x = self.x-1\n",
        "        elif action == 2:\n",
        "            if self.y == self.grid_size - 3:\n",
        "                self.y = self.y - 1\n",
        "            else:\n",
        "                self.y = self.y + 1\n",
        "        elif action == 3:\n",
        "            if self.y == 2:\n",
        "                self.y = self.y + 1\n",
        "            else:\n",
        "                self.y = self.y - 1\n",
        "        else:\n",
        "            RuntimeError('Error: action not recognized')\n",
        "\n",
        "        self.t = self.t + 1\n",
        "        reward = self.board[self.x, self.y]\n",
        "        self.board[self.x, self.y] = 0\n",
        "        game_over = self.t > self.max_time\n",
        "        state = np.concatenate((self.board.reshape(self.grid_size, self.grid_size,1),\n",
        "                        self.position.reshape(self.grid_size, self.grid_size,1)),axis=2)\n",
        "        state = state[self.x-2:self.x+3,self.y-2:self.y+3,:]\n",
        "\n",
        "        return state, reward, game_over\n",
        "\n",
        "    def reset(self):\n",
        "        \"\"\"This function resets the game and returns the initial state\"\"\"\n",
        "\n",
        "        self.x = np.random.randint(3, self.grid_size-3, size=1)[0]\n",
        "        self.y = np.random.randint(3, self.grid_size-3, size=1)[0]\n",
        "\n",
        "\n",
        "        bonus = 0.5*np.random.binomial(1,self.temperature,size=self.grid_size**2)\n",
        "        bonus = bonus.reshape(self.grid_size,self.grid_size)\n",
        "\n",
        "        malus = -1.0*np.random.binomial(1,self.temperature,size=self.grid_size**2)\n",
        "        malus = malus.reshape(self.grid_size, self.grid_size)\n",
        "\n",
        "        self.to_draw = np.zeros((self.max_time+2, self.grid_size*self.scale, self.grid_size*self.scale, 3))\n",
        "\n",
        "\n",
        "        malus[bonus>0]=0\n",
        "\n",
        "        self.board = bonus + malus\n",
        "\n",
        "        self.position = np.zeros((self.grid_size, self.grid_size))\n",
        "        self.position[0:2,:]= -1\n",
        "        self.position[:,0:2] = -1\n",
        "        self.position[-2:, :] = -1\n",
        "        self.position[-2:, :] = -1\n",
        "        self.board[self.x,self.y] = 0\n",
        "        self.t = 0\n",
        "\n",
        "        state = np.concatenate((\n",
        "                               self.board.reshape(self.grid_size, self.grid_size,1),\n",
        "                        self.position.reshape(self.grid_size, self.grid_size,1)),axis=2)\n",
        "\n",
        "        state = state[self.x - 2:self.x + 3, self.y - 2:self.y + 3, :]\n",
        "        return state"
      ],
      "execution_count": 0,
      "outputs": []
    },
    {
      "cell_type": "markdown",
      "metadata": {
        "colab_type": "text",
        "id": "15SPcyjQ11yu"
      },
      "source": [
        "The following elements are important because they correspond to the hyper parameters for this project:"
      ]
    },
    {
      "cell_type": "code",
      "metadata": {
        "colab_type": "code",
        "id": "gq-dHze111yv",
        "colab": {}
      },
      "source": [
        "# parameters\n",
        "size = 13\n",
        "T=200\n",
        "temperature=0.3\n",
        "epochs_train=50 # set small when debugging\n",
        "epochs_test=50 # set small when debugging\n",
        "\n",
        "# display videos\n",
        "def display_videos(name):\n",
        "    video = io.open(name, 'r+b').read()\n",
        "    encoded = base64.b64encode(video)\n",
        "    return '''<video alt=\"test\" controls>\n",
        "                <source src=\"data:video/mp4;base64,{0}\" type=\"video/mp4\" />\n",
        "             </video>'''.format(encoded.decode('ascii'))"
      ],
      "execution_count": 0,
      "outputs": []
    },
    {
      "cell_type": "markdown",
      "metadata": {
        "colab_type": "text",
        "id": "BYJGPoZz11y0"
      },
      "source": [
        "__Question 2__ Explain the use of the arrays ```position``` and ```board```."
      ]
    },
    {
      "cell_type": "markdown",
      "metadata": {
        "colab_type": "text",
        "id": "wcKdZWFy11y0"
      },
      "source": [
        "The position array indicates the location of the agent within the gridworld (with an additional 2 cells on top of each border in order to accommodate for the 5 by 5 vision range of the agent). The current position is set to 1, with 0 at every toher location other than the ones where the agent cannot go, which are set to -1.\n",
        "\n",
        "The board array is a grid of the same size as the position array, with zeros for all empty cells. It also describes the reward (0.5 for bonus cells and -1 for malus cells). The array board contains the informations concerning the cheese (cells containing 0.5) and the poisonous cells (cells containing -1). Hence, when the rat goes to a certain position, the value of board wrt that location is added to the reward. Subsequently, the value of the cell is set to 0 on the board, indicating that the agent has consumed either the food or the poison.\n",
        "\n",
        "Both arrays are updated after each action; they are used to keep track of the experiment and also to compute the state."
      ]
    },
    {
      "cell_type": "markdown",
      "metadata": {
        "colab_type": "text",
        "id": "WaIbZcq511y1"
      },
      "source": [
        "## Random Agent"
      ]
    },
    {
      "cell_type": "markdown",
      "metadata": {
        "colab_type": "text",
        "id": "emab63jf11y2"
      },
      "source": [
        "***\n",
        "__Question 3__ Implement a random Agent (only ```learned_act``` needs to be implemented):"
      ]
    },
    {
      "cell_type": "code",
      "metadata": {
        "colab_type": "code",
        "id": "G_ZYMymg11y2",
        "colab": {}
      },
      "source": [
        "class RandomAgent(Agent):\n",
        "    def __init__(self):\n",
        "        super(RandomAgent, self).__init__()\n",
        "        pass\n",
        "\n",
        "    def learned_act(self, s):\n",
        "        return np.random.randint(0, self.n_action, size=1)[0]"
      ],
      "execution_count": 0,
      "outputs": []
    },
    {
      "cell_type": "markdown",
      "metadata": {
        "colab_type": "text",
        "id": "UW5VM1Fu11y5"
      },
      "source": [
        "***\n",
        "***\n",
        "__Question 4__ Visualize the game moves. You need to fill in the following function for the evaluation:"
      ]
    },
    {
      "cell_type": "code",
      "metadata": {
        "colab_type": "code",
        "id": "db0Wy_vT11y6",
        "colab": {}
      },
      "source": [
        "def test(agent,env,epochs,prefix=''):\n",
        "    # Number of won games\n",
        "    score = 0\n",
        "        \n",
        "    for e in range(epochs):\n",
        "        \n",
        "        # reset state at every epoch\n",
        "        state = env.reset()\n",
        "        # This assumes that the games will end\n",
        "        game_over = False\n",
        "\n",
        "        #initialize\n",
        "        win = 0\n",
        "        lose = 0\n",
        "\n",
        "        while not game_over:\n",
        "            # take an action\n",
        "            action = agent.act(state)\n",
        "\n",
        "            # act in the environment with the above action\n",
        "            # get the successor state, the reward from transition\n",
        "            # and whether the game has been terminated\n",
        "            prev_state = state\n",
        "            state, reward, game_over = env.act(action)\n",
        "\n",
        "            # update the win/lose counters based on the reward\n",
        "            if reward > 0:\n",
        "                win = win + reward\n",
        "            if reward < 0:\n",
        "                lose = lose - reward\n",
        "\n",
        "        # Save as a mp4\n",
        "        env.draw(prefix+str(e))\n",
        "\n",
        "        # Update stats\n",
        "        score = score + win-lose\n",
        "\n",
        "        print(\"Win/lose count {}/{}. Average score ({})\"\n",
        "              .format(win, lose, score/(1+e)))\n",
        "    print('Final score: '+str(score/epochs))"
      ],
      "execution_count": 0,
      "outputs": []
    },
    {
      "cell_type": "code",
      "metadata": {
        "colab_type": "code",
        "id": "k0fRbSuR11y8",
        "outputId": "bf318aaa-4077-4e59-d382-6e7730b65f3f",
        "colab": {
          "base_uri": "https://localhost:8080/",
          "height": 884
        }
      },
      "source": [
        "# Initialize the game\n",
        "\n",
        "import skvideo.io\n",
        "env = Environment(grid_size=size, max_time=T, temperature=temperature)\n",
        "\n",
        "# Initialize the agent!\n",
        "agent = RandomAgent()\n",
        "\n",
        "test(agent,env,epochs_test,prefix='random')"
      ],
      "execution_count": 135,
      "outputs": [
        {
          "output_type": "stream",
          "text": [
            "Win/lose count 11.0/21.0. Average score (-10.0)\n",
            "Win/lose count 13.5/7.0. Average score (-1.75)\n",
            "Win/lose count 12.5/19.0. Average score (-3.3333333333333335)\n",
            "Win/lose count 17.0/20.0. Average score (-3.25)\n",
            "Win/lose count 9.5/14.0. Average score (-3.5)\n",
            "Win/lose count 16.0/14.0. Average score (-2.5833333333333335)\n",
            "Win/lose count 11.5/14.0. Average score (-2.5714285714285716)\n",
            "Win/lose count 15.0/20.0. Average score (-2.875)\n",
            "Win/lose count 11.0/11.0. Average score (-2.5555555555555554)\n",
            "Win/lose count 10.5/12.0. Average score (-2.45)\n",
            "Win/lose count 10.0/13.0. Average score (-2.5)\n",
            "Win/lose count 8.5/19.0. Average score (-3.1666666666666665)\n",
            "Win/lose count 15.0/15.0. Average score (-2.923076923076923)\n",
            "Win/lose count 12.0/12.0. Average score (-2.7142857142857144)\n",
            "Win/lose count 14.0/18.0. Average score (-2.8)\n",
            "Win/lose count 9.5/17.0. Average score (-3.09375)\n",
            "Win/lose count 7.5/17.0. Average score (-3.4705882352941178)\n",
            "Win/lose count 12.5/15.0. Average score (-3.4166666666666665)\n",
            "Win/lose count 9.0/11.0. Average score (-3.3421052631578947)\n",
            "Win/lose count 7.0/18.0. Average score (-3.725)\n",
            "Win/lose count 11.5/15.0. Average score (-3.7142857142857144)\n",
            "Win/lose count 11.5/16.0. Average score (-3.75)\n",
            "Win/lose count 9.5/9.0. Average score (-3.5652173913043477)\n",
            "Win/lose count 12.0/15.0. Average score (-3.5416666666666665)\n",
            "Win/lose count 6.5/16.0. Average score (-3.78)\n",
            "Win/lose count 11.0/11.0. Average score (-3.6346153846153846)\n",
            "Win/lose count 8.0/17.0. Average score (-3.8333333333333335)\n",
            "Win/lose count 11.0/10.0. Average score (-3.6607142857142856)\n",
            "Win/lose count 9.0/11.0. Average score (-3.603448275862069)\n",
            "Win/lose count 10.0/16.0. Average score (-3.683333333333333)\n",
            "Win/lose count 10.5/12.0. Average score (-3.6129032258064515)\n",
            "Win/lose count 11.0/13.0. Average score (-3.5625)\n",
            "Win/lose count 8.0/16.0. Average score (-3.696969696969697)\n",
            "Win/lose count 11.5/7.0. Average score (-3.4558823529411766)\n",
            "Win/lose count 9.5/14.0. Average score (-3.4857142857142858)\n",
            "Win/lose count 9.0/16.0. Average score (-3.5833333333333335)\n",
            "Win/lose count 6.0/10.0. Average score (-3.5945945945945947)\n",
            "Win/lose count 10.0/9.0. Average score (-3.473684210526316)\n",
            "Win/lose count 12.5/11.0. Average score (-3.3461538461538463)\n",
            "Win/lose count 6.5/9.0. Average score (-3.325)\n",
            "Win/lose count 12.0/18.0. Average score (-3.3902439024390243)\n",
            "Win/lose count 10.5/18.0. Average score (-3.488095238095238)\n",
            "Win/lose count 6.0/6.0. Average score (-3.4069767441860463)\n",
            "Win/lose count 7.0/14.0. Average score (-3.4886363636363638)\n",
            "Win/lose count 10.5/17.0. Average score (-3.5555555555555554)\n",
            "Win/lose count 6.5/14.0. Average score (-3.641304347826087)\n",
            "Win/lose count 15.5/16.0. Average score (-3.574468085106383)\n",
            "Win/lose count 12.5/12.0. Average score (-3.4895833333333335)\n",
            "Win/lose count 8.5/11.0. Average score (-3.4693877551020407)\n",
            "Win/lose count 11.5/14.0. Average score (-3.45)\n",
            "Final score: -3.45\n"
          ],
          "name": "stdout"
        }
      ]
    },
    {
      "cell_type": "markdown",
      "metadata": {
        "colab_type": "text",
        "id": "TAnQswgm11y_"
      },
      "source": [
        "***\n",
        "## DQN"
      ]
    },
    {
      "cell_type": "markdown",
      "metadata": {
        "colab_type": "text",
        "id": "DYPAlwER11zA"
      },
      "source": [
        "Let us assume here that $T=\\infty$.\n",
        "\n",
        "***\n",
        "__Question 5__ Let $\\pi$ be a policy, show that:\n",
        "\n",
        "\\begin{equation*}\n",
        "Q^{\\pi}(s,a)=E_{(s',a')\\sim p(.|s,a)}[r(s,a)+\\gamma Q^{\\pi}(s',a')]\n",
        "\\end{equation*}\n",
        "\n",
        "Then, show that for the optimal policy $\\pi^*$ (we assume its existence), the following holds: \n",
        "\n",
        "\\begin{equation*}\n",
        "Q^{*}(s,a)=E_{s'\\sim \\pi^*(.|s,a)}[r(s,a)+\\gamma\\max_{a'}Q^{*}(s',a')].\n",
        "\\end{equation*}\n",
        "Finally, deduce that a plausible objective is:\n",
        "\n",
        "\\begin{equation*}\n",
        "\\mathcal{L}(\\theta)=E_{s' \\sim \\pi^*(.|s,a)}\\Vert r+\\gamma\\max\\max_{a'}Q(s',a',\\theta)-Q(s,a,\\theta)\\Vert^{2}.\n",
        "\\end{equation*}\n",
        "\n",
        "\n"
      ]
    },
    {
      "cell_type": "markdown",
      "metadata": {
        "colab_type": "text",
        "id": "Kg_4cYcp11zB"
      },
      "source": [
        "\n",
        "First, it must be shown that $Q^\\pi$ satisfies the Bellman equation:\n",
        "$$\\begin{align}\n",
        "Q^\\pi(s,a) = E_{p^{\\pi}}\\left[\\sum_{t \\ge 0}\\gamma^{t}r(s_{t},a_{t}) ~\\middle|~ s_{0}=s,a_{0}=a\\right] \\\\\n",
        "= E_{p^{\\pi}}\\left[r(s_0,a_0) + \\gamma \\sum_{t \\ge 1}\\gamma^{t-1}r(s_{t},a_{t}) ~\\middle|~ s_{0}=s,a_{0}=a\\right] \\\\\n",
        "= E_{(s',a')\\sim p^\\pi(.|s,a)}\\left[r(s, a) + \\gamma E_{p^{\\pi}} \\left[ \\sum_{t \\ge 0}\\gamma^{t}r(s_{t-1},a_{t-1}) ~\\middle|~ s_1=s', a_1=a' \\right] ~\\middle|~ s_{0}=s,a_{0}=a\\right] \\\\\n",
        "= E_{(s',a')\\sim p^\\pi(.|s,a)}\\left[r(s, a) + \\gamma Q^\\pi (s', a')\\right]\n",
        "\\end{align}$$\n",
        "Now, the proof for the optimal Bellman equation must be demonstrated. Within the context of an MDP, there exists an optimal policy that is deterministic. Therefore, given a deterministic optimal policy ($\\pi^*$), it is true that $Q^*=Q^{\\pi^*}$. For each state ($s$), there exists an action ($a$), such that $\\pi^*(a|s) = 1$, and $Q^{\\pi^*}(s,a)=\\max_{a'} Q^{\\pi^*}(s, a')$ (since $\\pi^*$ would otherwise not be the optimal policy). Given a deterministic policy, the policy function can be denoited $\\pi^*(s)$. It follows that:\n",
        "$$\\begin{align}\n",
        "Q^*(s,a) = Q^{\\pi^*}(s,a) = E_{s' \\sim p(.|s,a)}\\left[r(s, a) + \\gamma Q^{\\pi^*} (s', \\pi^*(s'))\\right] \\\\\n",
        "= E_{s' \\sim p(.|s,a)}\\left[r(s, a) + \\gamma \\max_{a'} Q^{\\pi^*} (s', a')\\right] \\\\\n",
        "= E_{s' \\sim p(.|s,a)}\\left[r(s, a) + \\gamma \\max_{a'} Q^* (s', a')\\right]\n",
        "\\end{align}$$\n",
        "The final inequality can be re-written as follows: $E_{s' \\sim p(.|s,a)}\\left[r(s, a) + \\gamma \\max_{a'} Q^* (s', a') - Q^*(s,a)\\right] = 0$. Since $r(s, a) + \\gamma \\max_{a'} Q^* (s', a')$ should ultimately equal $Q^*(s,a)$, it makes sense to minimize the norm of this quantity, such that the objective function would be the following: $\\mathcal{L}(\\theta)=E_{s' \\sim p(.|s,a)}\\Vert r+\\gamma\\max_{a'}Q(s',a',\\theta)-Q(s,a,\\theta)\\Vert^{2}$. This is because the loss function would satisfy the following: $\\mathcal{L}(\\theta) \\geq 0$ and $\\mathcal{L}(\\theta^*) = 0$. Furthermore, this function is minimized by $\\theta^*$ associated to the optimal Q function."
      ]
    },
    {
      "cell_type": "markdown",
      "metadata": {
        "colab_type": "text",
        "id": "LXhTPuqH11zB"
      },
      "source": [
        "***\n",
        "The DQN-learning algorithm relies on these derivations to train the parameters $\\theta$ of a Deep Neural Network:\n",
        "\n",
        "1. At the state $s_t$, select the action $a_t$ with best reward using $Q_t$ and store the results;\n",
        "\n",
        "2. Obtain the new state $s_{t+1}$ from the environment $p$;\n",
        "\n",
        "3. Store $(s_t,a_t,s_{t+1})$;\n",
        "\n",
        "4. Obtain $Q_{t+1}$ by minimizing  $\\mathcal{L}$ from a recovered batch from the previously stored results.\n",
        "\n",
        "***\n",
        "__Question 6__ Implement the class ```Memory``` that stores moves (in a replay buffer) via ```remember``` and provides a ```random_access``` to these. Specify a maximum memory size to avoid side effects. You can for example use a ```list()``` and set by default ```max_memory=100```."
      ]
    },
    {
      "cell_type": "code",
      "metadata": {
        "colab_type": "code",
        "id": "yRS0H5ce11zC",
        "colab": {}
      },
      "source": [
        "class Memory(object):\n",
        "    def __init__(self, max_memory=100):\n",
        "        self.max_memory = max_memory\n",
        "        self.memory = list()\n",
        "\n",
        "    def remember(self, m):\n",
        "        self.memory.append(m)\n",
        "        if len(self.memory) > self.max_memory:\n",
        "            self.memory.pop(0)\n",
        "\n",
        "    def random_access(self):\n",
        "        return self.memory[np.random.randint(len(self.memory))]"
      ],
      "execution_count": 0,
      "outputs": []
    },
    {
      "cell_type": "markdown",
      "metadata": {
        "colab_type": "text",
        "id": "dCXu42W211zF"
      },
      "source": [
        "***\n",
        "The pipeline we will use for training is given below:"
      ]
    },
    {
      "cell_type": "code",
      "metadata": {
        "colab_type": "code",
        "id": "FO2Yq60y11zF",
        "colab": {}
      },
      "source": [
        "def train(agent,env,epoch,prefix=''):\n",
        "    # Number of won games\n",
        "    score = 0\n",
        "    loss = 0\n",
        "\n",
        "    for e in range(epoch):\n",
        "        # At each epoch, we restart to a fresh game and get the initial state\n",
        "        state = env.reset()\n",
        "        # This assumes that the games will terminate\n",
        "        game_over = False\n",
        "\n",
        "        win = 0\n",
        "        lose = 0\n",
        "\n",
        "        while not game_over:\n",
        "            # The agent performs an action\n",
        "            action = agent.act(state)\n",
        "\n",
        "            # Apply an action to the environment, get the next state, the reward\n",
        "            # and if the games end\n",
        "            prev_state = state\n",
        "            state, reward, game_over = env.act(action)\n",
        "\n",
        "            # Update the counters\n",
        "            if reward > 0:\n",
        "                win = win + reward\n",
        "            if reward < 0:\n",
        "                lose = lose -reward\n",
        "\n",
        "            # Apply the reinforcement strategy\n",
        "            loss = agent.reinforce(prev_state, state,  action, reward, game_over)\n",
        "\n",
        "        # Save as a mp4\n",
        "        if e % 10 == 0:\n",
        "            env.draw(prefix+str(e))\n",
        "\n",
        "        # Update stats\n",
        "        score += win-lose\n",
        "\n",
        "        print(\"Epoch {:03d}/{:03d} | Loss {:.4f} | Win/lose count {}/{} ({})\"\n",
        "              .format(e, epoch, loss, win, lose, win-lose))\n",
        "        agent.save(name_weights=prefix+'model.h5',name_model=prefix+'model.json')"
      ],
      "execution_count": 0,
      "outputs": []
    },
    {
      "cell_type": "markdown",
      "metadata": {
        "colab_type": "text",
        "id": "0Lh555sk11zI"
      },
      "source": [
        "***\n",
        "__Question 7__ Implement the DQN training algorithm using a cascade of fully connected layers. You can use different learning rate, batch size or memory size parameters. In particular, the loss might oscillate while the player will start to win the games. You have to find a good criterium."
      ]
    },
    {
      "cell_type": "code",
      "metadata": {
        "colab_type": "code",
        "id": "TRmB4THv11zJ",
        "colab": {}
      },
      "source": [
        "class DQN(Agent):\n",
        "    def __init__(self, grid_size,  epsilon = 0.1, memory_size=100, batch_size = 16,n_state=2):\n",
        "        super(DQN, self).__init__(epsilon = epsilon)\n",
        "\n",
        "        # Discount for Q learning\n",
        "        self.discount = 0.99\n",
        "        \n",
        "        self.grid_size = grid_size\n",
        "        \n",
        "        # number of state\n",
        "        self.n_state = n_state\n",
        "\n",
        "        # Memory\n",
        "        self.memory = Memory(memory_size)\n",
        "        \n",
        "        # Batch size when learning\n",
        "        self.batch_size = batch_size\n",
        "\n",
        "    def learned_act(self, s):\n",
        "        [n,m,l] = np.shape(s)\n",
        "        state = np.reshape(s,(1,n,m,l))\n",
        "        pred = self.model.predict(state)\n",
        "        return np.argmax(pred)\n",
        "\n",
        "    def reinforce(self, s_, n_s_, a_, r_, game_over_):\n",
        "        # Two steps: first memorize the states, second learn from the pool\n",
        "\n",
        "        self.memory.remember([s_, n_s_, a_, r_, game_over_])\n",
        "        \n",
        "        input_states = np.zeros((self.batch_size, 5,5,self.n_state))\n",
        "        target_q = np.zeros((self.batch_size, 4))\n",
        "        \n",
        "        for i in range(self.batch_size):\n",
        "            ######## FILL IN\n",
        "            state, next_state, action, reward, game_over = self.memory.random_access()\n",
        "            input_states[i] = state\n",
        "            [n,m,l] = np.shape(state)\n",
        "            state = np.reshape(state,(1,n,m,l))\n",
        "            target_q[i] = self.model.predict(state)\n",
        "            if game_over_:\n",
        "                ######## FILL IN\n",
        "                target_q[i, action] = reward\n",
        "            else:\n",
        "                ######## FILL IN\n",
        "                [n,m,l] = np.shape(next_state)\n",
        "                next_state = np.reshape(next_state,(1,n,m,l))\n",
        "                target_q[i, action] = reward + self.discount*np.max(self.model.predict(next_state))\n",
        "        ######## FILL IN\n",
        "        # HINT: Clip the target to avoid exploiding gradients.. -- clipping is a bit tighter\n",
        "        target_q = np.clip(target_q, -3, 3)\n",
        "\n",
        "        l = self.model.train_on_batch(input_states, target_q)\n",
        "\n",
        "        return l\n",
        "\n",
        "    def save(self,name_weights='model.h5',name_model='model.json'):\n",
        "        self.model.save_weights(name_weights, overwrite=True)\n",
        "        with open(name_model, \"w\") as outfile:\n",
        "            json.dump(self.model.to_json(), outfile)\n",
        "            \n",
        "    def load(self,name_weights='model.h5',name_model='model.json'):\n",
        "        with open(name_model, \"r\") as jfile:\n",
        "            model = model_from_json(json.load(jfile))\n",
        "        model.load_weights(name_weights)\n",
        "        model.compile(\"sgd\", \"mse\")\n",
        "        self.model = model\n",
        "\n",
        "            \n",
        "class DQN_FC(DQN):\n",
        "    def __init__(self, *args, lr=0.1,**kwargs):\n",
        "        super(DQN_FC, self).__init__( *args,**kwargs)\n",
        "        \n",
        "        # NN Model\n",
        "        \n",
        "        ####### FILL IN\n",
        "        model = Sequential()\n",
        "        model.add(Dense(40,activation ='relu', input_shape=(5,5,self.n_state)))\n",
        "        model.add(Dense(20,activation ='relu'))\n",
        "        model.add(Flatten())\n",
        "        model.add(Dense(4))\n",
        "        \n",
        "        model.compile(sgd(lr=lr, decay=1e-4, momentum=0.0), \"mse\")\n",
        "        self.model = model"
      ],
      "execution_count": 0,
      "outputs": []
    },
    {
      "cell_type": "code",
      "metadata": {
        "colab_type": "code",
        "id": "YI4wKOxL11zM",
        "outputId": "61fbd1b7-ac9e-4b0b-ea48-c0e13f690a71",
        "colab": {
          "base_uri": "https://localhost:8080/",
          "height": 1000
        }
      },
      "source": [
        "env = Environment(grid_size=size, max_time=T, temperature=0.3)\n",
        "agent = DQN_FC(size, lr=.1, epsilon = 0.1, memory_size=2000, batch_size = 32)\n",
        "train(agent, env, epochs_train, prefix='fc_train')\n",
        "HTML(display_videos('fc_train10.mp4'))"
      ],
      "execution_count": 139,
      "outputs": [
        {
          "output_type": "stream",
          "text": [
            "Epoch 000/050 | Loss 0.0141 | Win/lose count 2.5/2.0 (0.5)\n",
            "Epoch 001/050 | Loss 0.0192 | Win/lose count 3.0/5.0 (-2.0)\n",
            "Epoch 002/050 | Loss 0.0572 | Win/lose count 4.0/1.0 (3.0)\n",
            "Epoch 003/050 | Loss 0.1906 | Win/lose count 4.0/5.0 (-1.0)\n",
            "Epoch 004/050 | Loss 0.5843 | Win/lose count 4.0/4.0 (0.0)\n",
            "Epoch 005/050 | Loss 1.0210 | Win/lose count 2.0/3.0 (-1.0)\n",
            "Epoch 006/050 | Loss 1.7368 | Win/lose count 7.0/2.0 (5.0)\n",
            "Epoch 007/050 | Loss 1.7872 | Win/lose count 7.5/3.0 (4.5)\n",
            "Epoch 008/050 | Loss 1.6845 | Win/lose count 7.0/1.0 (6.0)\n",
            "Epoch 009/050 | Loss 1.8877 | Win/lose count 6.0/3.0 (3.0)\n",
            "Epoch 010/050 | Loss 1.8922 | Win/lose count 1.5/4.0 (-2.5)\n",
            "Epoch 011/050 | Loss 1.7934 | Win/lose count 2.0/6.0 (-4.0)\n",
            "Epoch 012/050 | Loss 1.8005 | Win/lose count 18.0/4.0 (14.0)\n",
            "Epoch 013/050 | Loss 2.0383 | Win/lose count 11.0/5.0 (6.0)\n",
            "Epoch 014/050 | Loss 1.9517 | Win/lose count 10.5/3.0 (7.5)\n",
            "Epoch 015/050 | Loss 1.8981 | Win/lose count 5.0/6.0 (-1.0)\n",
            "Epoch 016/050 | Loss 1.8184 | Win/lose count 13.5/3.0 (10.5)\n",
            "Epoch 017/050 | Loss 1.8220 | Win/lose count 9.0/0 (9.0)\n",
            "Epoch 018/050 | Loss 1.9190 | Win/lose count 2.0/1.0 (1.0)\n",
            "Epoch 019/050 | Loss 1.8556 | Win/lose count 11.0/2.0 (9.0)\n",
            "Epoch 020/050 | Loss 1.9293 | Win/lose count 9.0/2.0 (7.0)\n",
            "Epoch 021/050 | Loss 1.9628 | Win/lose count 14.0/2.0 (12.0)\n",
            "Epoch 022/050 | Loss 1.8631 | Win/lose count 15.0/2.0 (13.0)\n",
            "Epoch 023/050 | Loss 1.8656 | Win/lose count 9.0/0 (9.0)\n",
            "Epoch 024/050 | Loss 1.8701 | Win/lose count 10.5/1.0 (9.5)\n",
            "Epoch 025/050 | Loss 1.8725 | Win/lose count 16.5/2.0 (14.5)\n",
            "Epoch 026/050 | Loss 1.8704 | Win/lose count 7.5/1.0 (6.5)\n",
            "Epoch 027/050 | Loss 1.7860 | Win/lose count 15.5/6.0 (9.5)\n",
            "Epoch 028/050 | Loss 1.8113 | Win/lose count 18.0/0 (18.0)\n",
            "Epoch 029/050 | Loss 1.8273 | Win/lose count 13.0/3.0 (10.0)\n",
            "Epoch 030/050 | Loss 1.8944 | Win/lose count 9.5/2.0 (7.5)\n",
            "Epoch 031/050 | Loss 1.8317 | Win/lose count 16.5/5.0 (11.5)\n",
            "Epoch 032/050 | Loss 1.8143 | Win/lose count 14.0/3.0 (11.0)\n",
            "Epoch 033/050 | Loss 1.7396 | Win/lose count 7.0/1.0 (6.0)\n",
            "Epoch 034/050 | Loss 1.7480 | Win/lose count 14.0/3.0 (11.0)\n",
            "Epoch 035/050 | Loss 1.7506 | Win/lose count 16.5/3.0 (13.5)\n",
            "Epoch 036/050 | Loss 1.8273 | Win/lose count 15.5/1.0 (14.5)\n",
            "Epoch 037/050 | Loss 1.8329 | Win/lose count 24.0/2.0 (22.0)\n",
            "Epoch 038/050 | Loss 1.7800 | Win/lose count 11.0/4.0 (7.0)\n",
            "Epoch 039/050 | Loss 1.8741 | Win/lose count 14.0/2.0 (12.0)\n",
            "Epoch 040/050 | Loss 1.7876 | Win/lose count 21.5/3.0 (18.5)\n",
            "Epoch 041/050 | Loss 1.8259 | Win/lose count 22.0/6.0 (16.0)\n",
            "Epoch 042/050 | Loss 1.8469 | Win/lose count 16.5/4.0 (12.5)\n",
            "Epoch 043/050 | Loss 1.8320 | Win/lose count 18.5/3.0 (15.5)\n",
            "Epoch 044/050 | Loss 1.8493 | Win/lose count 15.0/4.0 (11.0)\n",
            "Epoch 045/050 | Loss 1.7915 | Win/lose count 17.5/3.0 (14.5)\n",
            "Epoch 046/050 | Loss 1.9089 | Win/lose count 13.0/1.0 (12.0)\n",
            "Epoch 047/050 | Loss 1.8766 | Win/lose count 17.5/6.0 (11.5)\n",
            "Epoch 048/050 | Loss 1.8740 | Win/lose count 16.5/2.0 (14.5)\n",
            "Epoch 049/050 | Loss 1.8442 | Win/lose count 16.0/4.0 (12.0)\n"
          ],
          "name": "stdout"
        },
        {
          "output_type": "execute_result",
          "data": {
            "text/html": [
              "<video alt=\"test\" controls>\n",
              "                <source src=\"data:video/mp4;base64,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\" type=\"video/mp4\" />\n",
              "             </video>"
            ],
            "text/plain": [
              "<IPython.core.display.HTML object>"
            ]
          },
          "metadata": {
            "tags": []
          },
          "execution_count": 139
        }
      ]
    },
    {
      "cell_type": "markdown",
      "metadata": {
        "colab_type": "text",
        "id": "pNMY5n6D11zP"
      },
      "source": [
        "***\n",
        "***\n",
        "__Question 8__ Implement the DQN training algorithm using a CNN (for example, 2 convolutional layers and one final fully connected layer)."
      ]
    },
    {
      "cell_type": "code",
      "metadata": {
        "colab_type": "code",
        "id": "9amNCYfX11zP",
        "colab": {}
      },
      "source": [
        "class DQN_CNN(DQN):\n",
        "    def __init__(self, *args,lr=0.1,**kwargs):\n",
        "        super(DQN_CNN, self).__init__(*args,**kwargs)\n",
        "        \n",
        "        ###### FILL IN\n",
        "\n",
        "        input_shape = (5, 5, self.n_state)\n",
        "        model = Sequential()\n",
        "        model.add(Conv2D(32,(2,2),input_shape=input_shape,activation='relu'))\n",
        "        model.add(Conv2D(16,(2,2),activation='relu'))\n",
        "        model.add(Reshape((-1,)))\n",
        "        model.add(Dense(4))\n",
        "        \n",
        "        model.summary()\n",
        "        \n",
        "        model.compile(sgd(lr=lr, decay=1e-4, momentum=0.0), \"mse\")\n",
        "        self.model = model"
      ],
      "execution_count": 0,
      "outputs": []
    },
    {
      "cell_type": "code",
      "metadata": {
        "colab_type": "code",
        "id": "ALlbhOZi11zR",
        "colab": {
          "base_uri": "https://localhost:8080/",
          "height": 1000
        },
        "outputId": "6537b2c9-1431-4754-c47f-4fe92a0dec3a"
      },
      "source": [
        "env = Environment(grid_size=size, max_time=T, temperature=0.3)\n",
        "agent = DQN_CNN(size, lr=.1, epsilon = 0.1, memory_size=2000, batch_size = 32)\n",
        "train(agent,env,epochs_train,prefix='cnn_train')\n",
        "HTML(display_videos('cnn_train10.mp4'))"
      ],
      "execution_count": 141,
      "outputs": [
        {
          "output_type": "stream",
          "text": [
            "Model: \"sequential_28\"\n",
            "_________________________________________________________________\n",
            "Layer (type)                 Output Shape              Param #   \n",
            "=================================================================\n",
            "conv2d_17 (Conv2D)           (None, 4, 4, 32)          288       \n",
            "_________________________________________________________________\n",
            "conv2d_18 (Conv2D)           (None, 3, 3, 16)          2064      \n",
            "_________________________________________________________________\n",
            "reshape_9 (Reshape)          (None, 144)               0         \n",
            "_________________________________________________________________\n",
            "dense_66 (Dense)             (None, 4)                 580       \n",
            "=================================================================\n",
            "Total params: 2,932\n",
            "Trainable params: 2,932\n",
            "Non-trainable params: 0\n",
            "_________________________________________________________________\n",
            "Epoch 000/050 | Loss 0.0019 | Win/lose count 0.5/5.0 (-4.5)\n",
            "Epoch 001/050 | Loss 0.0088 | Win/lose count 3.0/7.0 (-4.0)\n",
            "Epoch 002/050 | Loss 0.0084 | Win/lose count 2.0/3.0 (-1.0)\n",
            "Epoch 003/050 | Loss 0.0120 | Win/lose count 1.0/1.0 (0.0)\n",
            "Epoch 004/050 | Loss 0.0138 | Win/lose count 1.5/2.0 (-0.5)\n",
            "Epoch 005/050 | Loss 0.0307 | Win/lose count 5.0/5.0 (0.0)\n",
            "Epoch 006/050 | Loss 0.0288 | Win/lose count 2.5/2.0 (0.5)\n",
            "Epoch 007/050 | Loss 0.0650 | Win/lose count 1.0/2.0 (-1.0)\n",
            "Epoch 008/050 | Loss 0.1380 | Win/lose count 2.5/2.0 (0.5)\n",
            "Epoch 009/050 | Loss 0.2067 | Win/lose count 2.5/2.0 (0.5)\n",
            "Epoch 010/050 | Loss 0.4026 | Win/lose count 3.0/1.0 (2.0)\n",
            "Epoch 011/050 | Loss 0.7187 | Win/lose count 6.5/3.0 (3.5)\n",
            "Epoch 012/050 | Loss 1.6826 | Win/lose count 2.5/2.0 (0.5)\n",
            "Epoch 013/050 | Loss 1.8292 | Win/lose count 8.0/5.0 (3.0)\n",
            "Epoch 014/050 | Loss 1.9198 | Win/lose count 9.5/3.0 (6.5)\n",
            "Epoch 015/050 | Loss 1.8919 | Win/lose count 3.5/2.0 (1.5)\n",
            "Epoch 016/050 | Loss 1.7293 | Win/lose count 11.5/4.0 (7.5)\n",
            "Epoch 017/050 | Loss 1.7814 | Win/lose count 10.5/3.0 (7.5)\n",
            "Epoch 018/050 | Loss 1.7849 | Win/lose count 8.5/2.0 (6.5)\n",
            "Epoch 019/050 | Loss 1.8092 | Win/lose count 13.0/2.0 (11.0)\n",
            "Epoch 020/050 | Loss 1.7756 | Win/lose count 6.5/2.0 (4.5)\n",
            "Epoch 021/050 | Loss 1.7818 | Win/lose count 17.0/2.0 (15.0)\n",
            "Epoch 022/050 | Loss 1.8074 | Win/lose count 9.5/2.0 (7.5)\n",
            "Epoch 023/050 | Loss 1.8882 | Win/lose count 16.0/3.0 (13.0)\n",
            "Epoch 024/050 | Loss 1.7759 | Win/lose count 13.0/5.0 (8.0)\n",
            "Epoch 025/050 | Loss 1.8441 | Win/lose count 15.5/3.0 (12.5)\n",
            "Epoch 026/050 | Loss 1.8983 | Win/lose count 7.0/3.0 (4.0)\n",
            "Epoch 027/050 | Loss 1.8622 | Win/lose count 12.0/4.0 (8.0)\n",
            "Epoch 028/050 | Loss 1.8691 | Win/lose count 9.5/2.0 (7.5)\n",
            "Epoch 029/050 | Loss 1.8841 | Win/lose count 8.5/2.0 (6.5)\n",
            "Epoch 030/050 | Loss 1.7702 | Win/lose count 3.5/1.0 (2.5)\n",
            "Epoch 031/050 | Loss 1.7626 | Win/lose count 14.0/6.0 (8.0)\n",
            "Epoch 032/050 | Loss 1.8307 | Win/lose count 19.5/3.0 (16.5)\n",
            "Epoch 033/050 | Loss 1.7958 | Win/lose count 12.5/0 (12.5)\n",
            "Epoch 034/050 | Loss 1.7787 | Win/lose count 8.5/1.0 (7.5)\n",
            "Epoch 035/050 | Loss 1.7906 | Win/lose count 13.5/1.0 (12.5)\n",
            "Epoch 036/050 | Loss 1.9017 | Win/lose count 16.0/3.0 (13.0)\n",
            "Epoch 037/050 | Loss 1.8613 | Win/lose count 11.5/4.0 (7.5)\n",
            "Epoch 038/050 | Loss 1.8119 | Win/lose count 4.0/1.0 (3.0)\n",
            "Epoch 039/050 | Loss 1.8204 | Win/lose count 14.0/7.0 (7.0)\n",
            "Epoch 040/050 | Loss 1.7329 | Win/lose count 8.0/4.0 (4.0)\n",
            "Epoch 041/050 | Loss 1.7803 | Win/lose count 9.5/0 (9.5)\n",
            "Epoch 042/050 | Loss 1.7757 | Win/lose count 14.5/3.0 (11.5)\n",
            "Epoch 043/050 | Loss 1.8106 | Win/lose count 16.5/3.0 (13.5)\n",
            "Epoch 044/050 | Loss 1.7497 | Win/lose count 16.0/1.0 (15.0)\n",
            "Epoch 045/050 | Loss 1.7194 | Win/lose count 8.5/1.0 (7.5)\n",
            "Epoch 046/050 | Loss 1.8290 | Win/lose count 22.0/2.0 (20.0)\n",
            "Epoch 047/050 | Loss 1.8343 | Win/lose count 12.5/2.0 (10.5)\n",
            "Epoch 048/050 | Loss 1.7828 | Win/lose count 18.0/5.0 (13.0)\n",
            "Epoch 049/050 | Loss 1.8181 | Win/lose count 18.5/4.0 (14.5)\n"
          ],
          "name": "stdout"
        },
        {
          "output_type": "execute_result",
          "data": {
            "text/html": [
              "<video alt=\"test\" controls>\n",
              "                <source src=\"data:video/mp4;base64,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\" type=\"video/mp4\" />\n",
              "             </video>"
            ],
            "text/plain": [
              "<IPython.core.display.HTML object>"
            ]
          },
          "metadata": {
            "tags": []
          },
          "execution_count": 141
        }
      ]
    },
    {
      "cell_type": "markdown",
      "metadata": {
        "colab_type": "text",
        "id": "iR74iZUP11zU"
      },
      "source": [
        "***\n",
        "***\n",
        "__Question 9__ Test both algorithms and compare their performances. Which issue(s) do you observe? Observe also different behaviors by changing the temperature."
      ]
    },
    {
      "cell_type": "code",
      "metadata": {
        "colab_type": "code",
        "id": "-3GjWTiB11zU",
        "colab": {
          "base_uri": "https://localhost:8080/",
          "height": 1000
        },
        "outputId": "b1687d7c-b60c-45d5-d36f-a2446f466ed1"
      },
      "source": [
        "env = Environment(grid_size=size, max_time=T,temperature=0.3)\n",
        "agent_cnn = DQN_CNN(size, lr=.1, epsilon = 0.1, memory_size=2000, batch_size = 32)\n",
        "agent_cnn.load(name_weights='cnn_trainmodel.h5',name_model='cnn_trainmodel.json')\n",
        "\n",
        "agent_fc = DQN_FC(size, lr=.1, epsilon = 0.1, memory_size=2000, batch_size = 32)\n",
        "agent_cnn.load(name_weights='fc_trainmodel.h5',name_model='fc_trainmodel.json')\n",
        "print('Test of the CNN')\n",
        "test(agent_cnn,env,epochs_test,prefix='cnn_test')\n",
        "print('Test of the FC')\n",
        "test(agent_fc,env,epochs_test,prefix='fc_test')"
      ],
      "execution_count": 142,
      "outputs": [
        {
          "output_type": "stream",
          "text": [
            "Model: \"sequential_29\"\n",
            "_________________________________________________________________\n",
            "Layer (type)                 Output Shape              Param #   \n",
            "=================================================================\n",
            "conv2d_19 (Conv2D)           (None, 4, 4, 32)          288       \n",
            "_________________________________________________________________\n",
            "conv2d_20 (Conv2D)           (None, 3, 3, 16)          2064      \n",
            "_________________________________________________________________\n",
            "reshape_10 (Reshape)         (None, 144)               0         \n",
            "_________________________________________________________________\n",
            "dense_67 (Dense)             (None, 4)                 580       \n",
            "=================================================================\n",
            "Total params: 2,932\n",
            "Trainable params: 2,932\n",
            "Non-trainable params: 0\n",
            "_________________________________________________________________\n",
            "Test of the CNN\n",
            "Win/lose count 5.0/5.0. Average score (0.0)\n",
            "Win/lose count 4.5/0. Average score (2.25)\n",
            "Win/lose count 2.5/0. Average score (2.3333333333333335)\n",
            "Win/lose count 2.5/2.0. Average score (1.875)\n",
            "Win/lose count 4.5/1.0. Average score (2.2)\n",
            "Win/lose count 6.0/6.0. Average score (1.8333333333333333)\n",
            "Win/lose count 2.5/1.0. Average score (1.7857142857142858)\n",
            "Win/lose count 4.0/3.0. Average score (1.6875)\n",
            "Win/lose count 6.0/4.0. Average score (1.7222222222222223)\n",
            "Win/lose count 4.0/1.0. Average score (1.85)\n",
            "Win/lose count 1.5/0. Average score (1.8181818181818181)\n",
            "Win/lose count 6.0/1.0. Average score (2.0833333333333335)\n",
            "Win/lose count 5.0/0. Average score (2.3076923076923075)\n",
            "Win/lose count 6.0/3.0. Average score (2.357142857142857)\n",
            "Win/lose count 3.5/0. Average score (2.433333333333333)\n",
            "Win/lose count 1.5/2.0. Average score (2.25)\n",
            "Win/lose count 3.0/3.0. Average score (2.1176470588235294)\n",
            "Win/lose count 5.5/1.0. Average score (2.25)\n",
            "Win/lose count 7.5/1.0. Average score (2.473684210526316)\n",
            "Win/lose count 4.5/2.0. Average score (2.475)\n",
            "Win/lose count 3.5/3.0. Average score (2.380952380952381)\n",
            "Win/lose count 6.0/1.0. Average score (2.5)\n",
            "Win/lose count 6.0/2.0. Average score (2.5652173913043477)\n",
            "Win/lose count 6.0/3.0. Average score (2.5833333333333335)\n",
            "Win/lose count 1.5/0. Average score (2.54)\n",
            "Win/lose count 2.0/1.0. Average score (2.480769230769231)\n",
            "Win/lose count 8.0/3.0. Average score (2.574074074074074)\n",
            "Win/lose count 4.5/4.0. Average score (2.5)\n",
            "Win/lose count 4.5/3.0. Average score (2.4655172413793105)\n",
            "Win/lose count 5.0/0. Average score (2.55)\n",
            "Win/lose count 1.5/3.0. Average score (2.4193548387096775)\n",
            "Win/lose count 7.0/0. Average score (2.5625)\n",
            "Win/lose count 7.0/1.0. Average score (2.6666666666666665)\n",
            "Win/lose count 2.0/2.0. Average score (2.588235294117647)\n",
            "Win/lose count 3.0/2.0. Average score (2.5428571428571427)\n",
            "Win/lose count 3.5/2.0. Average score (2.513888888888889)\n",
            "Win/lose count 0.5/1.0. Average score (2.4324324324324325)\n",
            "Win/lose count 5.0/4.0. Average score (2.3947368421052633)\n",
            "Win/lose count 2.5/4.0. Average score (2.2948717948717947)\n",
            "Win/lose count 4.5/6.0. Average score (2.2)\n",
            "Win/lose count 2.0/3.0. Average score (2.1219512195121952)\n",
            "Win/lose count 3.0/3.0. Average score (2.0714285714285716)\n",
            "Win/lose count 2.5/1.0. Average score (2.058139534883721)\n",
            "Win/lose count 3.5/2.0. Average score (2.0454545454545454)\n",
            "Win/lose count 2.5/4.0. Average score (1.9666666666666666)\n",
            "Win/lose count 2.0/1.0. Average score (1.9456521739130435)\n",
            "Win/lose count 2.5/4.0. Average score (1.872340425531915)\n",
            "Win/lose count 2.0/1.0. Average score (1.8541666666666667)\n",
            "Win/lose count 0.5/4.0. Average score (1.7448979591836735)\n",
            "Win/lose count 4.0/1.0. Average score (1.77)\n",
            "Final score: 1.77\n",
            "Test of the FC\n",
            "Win/lose count 3.5/4.0. Average score (-0.5)\n",
            "Win/lose count 3.0/9.0. Average score (-3.25)\n",
            "Win/lose count 2.5/4.0. Average score (-2.6666666666666665)\n",
            "Win/lose count 4.5/7.0. Average score (-2.625)\n",
            "Win/lose count 5.0/7.0. Average score (-2.5)\n",
            "Win/lose count 3.0/2.0. Average score (-1.9166666666666667)\n",
            "Win/lose count 2.0/7.0. Average score (-2.357142857142857)\n",
            "Win/lose count 5.0/1.0. Average score (-1.5625)\n",
            "Win/lose count 3.0/5.0. Average score (-1.6111111111111112)\n",
            "Win/lose count 5.5/3.0. Average score (-1.2)\n",
            "Win/lose count 3.5/1.0. Average score (-0.8636363636363636)\n",
            "Win/lose count 4.0/9.0. Average score (-1.2083333333333333)\n",
            "Win/lose count 4.0/5.0. Average score (-1.1923076923076923)\n",
            "Win/lose count 2.0/4.0. Average score (-1.25)\n",
            "Win/lose count 2.0/2.0. Average score (-1.1666666666666667)\n",
            "Win/lose count 3.5/3.0. Average score (-1.0625)\n",
            "Win/lose count 3.0/8.0. Average score (-1.2941176470588236)\n",
            "Win/lose count 5.0/4.0. Average score (-1.1666666666666667)\n",
            "Win/lose count 0.5/5.0. Average score (-1.3421052631578947)\n",
            "Win/lose count 3.5/3.0. Average score (-1.25)\n",
            "Win/lose count 1.0/0. Average score (-1.1428571428571428)\n",
            "Win/lose count 3.5/4.0. Average score (-1.1136363636363635)\n",
            "Win/lose count 4.0/4.0. Average score (-1.065217391304348)\n",
            "Win/lose count 4.5/5.0. Average score (-1.0416666666666667)\n",
            "Win/lose count 4.5/5.0. Average score (-1.02)\n",
            "Win/lose count 1.5/3.0. Average score (-1.0384615384615385)\n",
            "Win/lose count 3.5/6.0. Average score (-1.0925925925925926)\n",
            "Win/lose count 1.0/3.0. Average score (-1.125)\n",
            "Win/lose count 4.0/5.0. Average score (-1.1206896551724137)\n",
            "Win/lose count 4.0/4.0. Average score (-1.0833333333333333)\n",
            "Win/lose count 2.5/3.0. Average score (-1.064516129032258)\n",
            "Win/lose count 2.0/7.0. Average score (-1.1875)\n",
            "Win/lose count 2.0/3.0. Average score (-1.1818181818181819)\n",
            "Win/lose count 4.5/6.0. Average score (-1.1911764705882353)\n",
            "Win/lose count 2.5/3.0. Average score (-1.1714285714285715)\n",
            "Win/lose count 3.5/4.0. Average score (-1.1527777777777777)\n",
            "Win/lose count 2.0/1.0. Average score (-1.0945945945945945)\n",
            "Win/lose count 1.0/5.0. Average score (-1.1710526315789473)\n",
            "Win/lose count 4.5/7.0. Average score (-1.205128205128205)\n",
            "Win/lose count 1.5/1.0. Average score (-1.1625)\n",
            "Win/lose count 2.5/6.0. Average score (-1.2195121951219512)\n",
            "Win/lose count 1.0/4.0. Average score (-1.2619047619047619)\n",
            "Win/lose count 0.5/1.0. Average score (-1.244186046511628)\n",
            "Win/lose count 1.0/2.0. Average score (-1.2386363636363635)\n",
            "Win/lose count 2.0/3.0. Average score (-1.2333333333333334)\n",
            "Win/lose count 3.5/6.0. Average score (-1.2608695652173914)\n",
            "Win/lose count 3.5/6.0. Average score (-1.2872340425531914)\n",
            "Win/lose count 3.0/2.0. Average score (-1.2395833333333333)\n",
            "Win/lose count 5.0/7.0. Average score (-1.2551020408163265)\n",
            "Win/lose count 6.0/5.0. Average score (-1.21)\n",
            "Final score: -1.21\n"
          ],
          "name": "stdout"
        }
      ]
    },
    {
      "cell_type": "markdown",
      "metadata": {
        "id": "Zr6snr96-vPx",
        "colab_type": "text"
      },
      "source": [
        "The CNN architecture achieved better performance than the FC model, which was even more pronounced when increasing the temperature hyper-parameter.\n",
        "\n",
        "A major issue for both models is that they have limited exploration (due to having a low value for epsilon). The agent seems to get consistently transitioning between two states. This is due to fact that the agent does not retain information about having already visited a state.\n",
        "\n",
        "Higher values for the temperature hyper-parameter leads to better performance for both models. This can be attributed to the fact that there are several positively rewarding states, so at beginning of the run, the agent will likely be surrounded by positive rewards in the beginning and the agent will just exploit by remaining in the area due to the low exploratory behavior. On the other hand, lower values for the temperature hyper-parameter leads both models having negative scores."
      ]
    },
    {
      "cell_type": "code",
      "metadata": {
        "colab_type": "code",
        "id": "YkSjgOSJ11zX",
        "colab": {
          "base_uri": "https://localhost:8080/",
          "height": 293
        },
        "outputId": "7f8cb06b-76de-431a-a5e8-b22b00e034b2"
      },
      "source": [
        "HTML(display_videos('cnn_test10.mp4'))"
      ],
      "execution_count": 149,
      "outputs": [
        {
          "output_type": "execute_result",
          "data": {
            "text/html": [
              "<video alt=\"test\" controls>\n",
              "                <source src=\"data:video/mp4;base64,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\" type=\"video/mp4\" />\n",
              "             </video>"
            ],
            "text/plain": [
              "<IPython.core.display.HTML object>"
            ]
          },
          "metadata": {
            "tags": []
          },
          "execution_count": 149
        }
      ]
    },
    {
      "cell_type": "code",
      "metadata": {
        "colab_type": "code",
        "id": "O91_Ap1911zZ",
        "colab": {
          "base_uri": "https://localhost:8080/",
          "height": 293
        },
        "outputId": "0259a390-8763-4835-a49a-c8b8ede896de"
      },
      "source": [
        "HTML(display_videos('fc_test10.mp4'))"
      ],
      "execution_count": 144,
      "outputs": [
        {
          "output_type": "execute_result",
          "data": {
            "text/html": [
              "<video alt=\"test\" controls>\n",
              "                <source src=\"data:video/mp4;base64,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\" type=\"video/mp4\" />\n",
              "             </video>"
            ],
            "text/plain": [
              "<IPython.core.display.HTML object>"
            ]
          },
          "metadata": {
            "tags": []
          },
          "execution_count": 144
        }
      ]
    },
    {
      "cell_type": "markdown",
      "metadata": {
        "colab_type": "text",
        "id": "pY6boN4D11zb"
      },
      "source": [
        ""
      ]
    },
    {
      "cell_type": "markdown",
      "metadata": {
        "colab_type": "text",
        "id": "hUOQTxSI11zc"
      },
      "source": [
        "***\n",
        "\n",
        "The algorithm tends to not explore the map which can be an issue. We propose two ideas in order to encourage exploration:\n",
        "1. Incorporating a decreasing $\\epsilon$-greedy exploration. You can use the method ```set_epsilon```\n",
        "2. Append via the environment a new state that describes if a cell has been visited or not\n",
        "\n",
        "***\n",
        "__Question 10__ Design a new ```train_explore``` function and environment class ```EnvironmentExploring``` to tackle the issue of exploration.\n",
        "\n"
      ]
    },
    {
      "cell_type": "code",
      "metadata": {
        "colab_type": "code",
        "id": "o2tOTVYV11zc",
        "colab": {}
      },
      "source": [
        "def train_explore(agent,env,epoch,prefix=''):\n",
        "    # Number of won games\n",
        "    score = 0\n",
        "    loss = 0\n",
        "\n",
        "    for e in range(epoch):\n",
        "        # At each epoch, we restart to a fresh game and get the initial state\n",
        "        state = env.reset()\n",
        "        # This assumes that the games will terminate\n",
        "        game_over = False\n",
        "\n",
        "        win = 0\n",
        "        lose = 0\n",
        "        \n",
        "        # We decrease epsilon\n",
        "        agent.set_epsilon(agent.epsilon*0.9)\n",
        "        while not game_over:\n",
        "            # The agent performs an action\n",
        "            action = agent.act(state)\n",
        "\n",
        "            # Apply an action to the environment, get the next state, the reward\n",
        "            # and if the games end\n",
        "            prev_state = state\n",
        "            state, reward, game_over = env.act(action, train = True)\n",
        "\n",
        "            # Update the counters\n",
        "            if reward > 0:\n",
        "                win = win + reward\n",
        "            if reward < 0:\n",
        "                lose = lose -reward\n",
        "\n",
        "            # Apply the reinforcement strategy\n",
        "            loss = agent.reinforce(prev_state, state,  action, reward, game_over)\n",
        "\n",
        "        # Save as a mp4\n",
        "        if e % 10 == 0:\n",
        "            env.draw(prefix+str(e))\n",
        "\n",
        "        # Update stats\n",
        "        score += win-lose\n",
        "\n",
        "        print(\"Epoch {:03d}/{:03d} | Loss {:.4f} | Win/lose count {}/{} ({})\"\n",
        "              .format(e, epoch, loss, win, lose, win-lose))\n",
        "        agent.save(name_weights=prefix+'model.h5',name_model=prefix+'model.json')\n",
        "\n",
        "\n",
        "class EnvironmentExploring(object):\n",
        "    def __init__(self, grid_size=10, max_time=500, temperature=0.1):\n",
        "        grid_size = grid_size+4\n",
        "        self.grid_size = grid_size\n",
        "        self.max_time = max_time\n",
        "        self.temperature = temperature\n",
        "\n",
        "        #board on which one plays\n",
        "        self.board = np.zeros((grid_size,grid_size))\n",
        "        self.position = np.zeros((grid_size,grid_size))\n",
        "        \n",
        "        # Array to indicate if a cell has been explored\n",
        "        self.malus_position = np.zeros((grid_size, grid_size))\n",
        "        \n",
        "        # coordinate of the cat\n",
        "        self.x = 0\n",
        "        self.y = 1\n",
        "\n",
        "        # self time\n",
        "        self.t = 0\n",
        "\n",
        "        self.scale=16\n",
        "\n",
        "        self.to_draw = np.zeros((max_time+2, grid_size*self.scale, grid_size*self.scale, 3))\n",
        "\n",
        "\n",
        "    def draw(self,e):\n",
        "        skvideo.io.vwrite(str(e) + '.mp4', self.to_draw)\n",
        "\n",
        "    def get_frame(self,t):\n",
        "        b = np.zeros((self.grid_size,self.grid_size,3))+128\n",
        "        b[self.board>0,0] = 256\n",
        "        b[self.board < 0, 2] = 256\n",
        "        b[self.x,self.y,:]=256\n",
        "        b[-2:,:,:]=0\n",
        "        b[:,-2:,:]=0\n",
        "        b[:2,:,:]=0\n",
        "        b[:,:2,:]=0\n",
        "        \n",
        "        b =  cv2.resize(b, None, fx=self.scale, fy=self.scale, interpolation=cv2.INTER_NEAREST)\n",
        "\n",
        "        self.to_draw[t,:,:,:]=b\n",
        "\n",
        "\n",
        "    def act(self, action, train=False):\n",
        "        \"\"\"This function returns the new state, reward and decides if the\n",
        "        game ends.\"\"\"\n",
        "\n",
        "        self.get_frame(int(self.t))\n",
        "\n",
        "        self.position = np.zeros((self.grid_size, self.grid_size))\n",
        "\n",
        "        self.position[0:2,:]= -1\n",
        "        self.position[:,0:2] = -1\n",
        "        self.position[-2:, :] = -1\n",
        "        self.position[:, -2:] = -1\n",
        "\n",
        "        self.position[self.x, self.y] = 1\n",
        "        if action == 0:\n",
        "            if self.x == self.grid_size-3:\n",
        "                self.x = self.x-1\n",
        "            else:\n",
        "                self.x = self.x + 1\n",
        "        elif action == 1:\n",
        "            if self.x == 2:\n",
        "                self.x = self.x+1\n",
        "            else:\n",
        "                self.x = self.x-1\n",
        "        elif action == 2:\n",
        "            if self.y == self.grid_size - 3:\n",
        "                self.y = self.y - 1\n",
        "            else:\n",
        "                self.y = self.y + 1\n",
        "        elif action == 3:\n",
        "            if self.y == 2:\n",
        "                self.y = self.y + 1\n",
        "            else:\n",
        "                self.y = self.y - 1\n",
        "        else:\n",
        "            RuntimeError('Error: action not recognized')\n",
        "\n",
        "        self.t = self.t + 1\n",
        "        \n",
        "        reward = 0\n",
        "        if train:\n",
        "            reward = -self.malus_position[self.x, self.y]\n",
        "        self.malus_position[self.x, self.y] = 0.1\n",
        "\n",
        "        reward = reward + self.board[self.x, self.y]\n",
        "        \n",
        "        self.board[self.x, self.y] = 0\n",
        "        game_over = self.t > self.max_time\n",
        "        state = np.concatenate((self.malus_position.reshape(self.grid_size, self.grid_size,1),\n",
        "                                self.board.reshape(self.grid_size, self.grid_size,1),\n",
        "                                self.position.reshape(self.grid_size, self.grid_size,1)),axis=2)\n",
        "        state = state[self.x-2:self.x+3,self.y-2:self.y+3,:]\n",
        "\n",
        "        return state, reward, game_over\n",
        "\n",
        "    def reset(self):\n",
        "        \"\"\"This function resets the game and returns the initial state\"\"\"\n",
        "\n",
        "        self.x = np.random.randint(3, self.grid_size-3, size=1)[0]\n",
        "        self.y = np.random.randint(3, self.grid_size-3, size=1)[0]\n",
        "\n",
        "\n",
        "        bonus = 0.5*np.random.binomial(1,self.temperature,size=self.grid_size**2)\n",
        "        bonus = bonus.reshape(self.grid_size,self.grid_size)\n",
        "\n",
        "        malus = -1.0*np.random.binomial(1,self.temperature,size=self.grid_size**2)\n",
        "        malus = malus.reshape(self.grid_size, self.grid_size)\n",
        "\n",
        "        self.to_draw = np.zeros((self.max_time+2, self.grid_size*self.scale, self.grid_size*self.scale, 3))\n",
        "\n",
        "\n",
        "        malus[bonus>0]=0\n",
        "\n",
        "        self.board = bonus + malus\n",
        "\n",
        "        self.position = np.zeros((self.grid_size, self.grid_size))\n",
        "        self.position[0:2,:]= -1\n",
        "        self.position[:,0:2] = -1\n",
        "        self.position[-2:, :] = -1\n",
        "        self.position[:,-2 :] = -1\n",
        "        self.board[self.x,self.y] = 0\n",
        "        self.t = 0\n",
        "        \n",
        "        self.malus_position = np.zeros((self.grid_size, self.grid_size))\n",
        "        \n",
        "        state = np.concatenate((self.malus_position.reshape(self.grid_size, self.grid_size,1),\n",
        "                               self.board.reshape(self.grid_size, self.grid_size,1),\n",
        "                        self.position.reshape(self.grid_size, self.grid_size,1)),axis=2)\n",
        "\n",
        "        state = state[self.x - 2:self.x + 3, self.y - 2:self.y + 3, :]\n",
        "        return state"
      ],
      "execution_count": 0,
      "outputs": []
    },
    {
      "cell_type": "code",
      "metadata": {
        "colab_type": "code",
        "id": "75Tc9ih511zg",
        "colab": {
          "base_uri": "https://localhost:8080/",
          "height": 1000
        },
        "outputId": "562ef075-8d3b-4a46-be85-6493b12dc215"
      },
      "source": [
        "# Training\n",
        "env = EnvironmentExploring(grid_size=size, max_time=T, temperature=0.3)\n",
        "agent = DQN_CNN(size, lr=.1, epsilon = 0.1, memory_size=2000, batch_size = 32,n_state=3)\n",
        "train_explore(agent, env, epochs_train, prefix='cnn_train_explore')\n",
        "HTML(display_videos('cnn_train_explore10.mp4'))"
      ],
      "execution_count": 146,
      "outputs": [
        {
          "output_type": "stream",
          "text": [
            "Model: \"sequential_31\"\n",
            "_________________________________________________________________\n",
            "Layer (type)                 Output Shape              Param #   \n",
            "=================================================================\n",
            "conv2d_21 (Conv2D)           (None, 4, 4, 32)          416       \n",
            "_________________________________________________________________\n",
            "conv2d_22 (Conv2D)           (None, 3, 3, 16)          2064      \n",
            "_________________________________________________________________\n",
            "reshape_11 (Reshape)         (None, 144)               0         \n",
            "_________________________________________________________________\n",
            "dense_71 (Dense)             (None, 4)                 580       \n",
            "=================================================================\n",
            "Total params: 3,060\n",
            "Trainable params: 3,060\n",
            "Non-trainable params: 0\n",
            "_________________________________________________________________\n",
            "Epoch 000/050 | Loss 0.0069 | Win/lose count 4.0/20.00000000000002 (-16.00000000000002)\n",
            "Epoch 001/050 | Loss 0.0022 | Win/lose count 1.0/23.30000000000007 (-22.30000000000007)\n",
            "Epoch 002/050 | Loss 0.0145 | Win/lose count 4.0/18.9 (-14.899999999999999)\n",
            "Epoch 003/050 | Loss 0.0322 | Win/lose count 7.5/25.600000000000055 (-18.100000000000055)\n",
            "Epoch 004/050 | Loss 0.1072 | Win/lose count 5.0/24.80000000000008 (-19.80000000000008)\n",
            "Epoch 005/050 | Loss 0.4703 | Win/lose count 4.5/22.90000000000007 (-18.40000000000007)\n",
            "Epoch 006/050 | Loss 0.9199 | Win/lose count 5.0/24.900000000000034 (-19.900000000000034)\n",
            "Epoch 007/050 | Loss 0.9544 | Win/lose count 7.0/22.80000000000005 (-15.80000000000005)\n",
            "Epoch 008/050 | Loss 0.4539 | Win/lose count 4.0/17.99999999999999 (-13.99999999999999)\n",
            "Epoch 009/050 | Loss 0.5598 | Win/lose count 10.0/18.900000000000006 (-8.900000000000006)\n",
            "Epoch 010/050 | Loss 0.4453 | Win/lose count 3.0/18.9 (-15.899999999999999)\n",
            "Epoch 011/050 | Loss 0.3587 | Win/lose count 15.5/15.69999999999996 (-0.1999999999999602)\n",
            "Epoch 012/050 | Loss 0.1731 | Win/lose count 18.0/13.599999999999971 (4.400000000000029)\n",
            "Epoch 013/050 | Loss 0.0990 | Win/lose count 5.5/17.899999999999984 (-12.399999999999984)\n",
            "Epoch 014/050 | Loss 0.0220 | Win/lose count 21.0/13.499999999999968 (7.500000000000032)\n",
            "Epoch 015/050 | Loss 0.0131 | Win/lose count 8.0/16.89999999999997 (-8.89999999999997)\n",
            "Epoch 016/050 | Loss 0.1410 | Win/lose count 14.5/13.999999999999966 (0.5000000000000338)\n",
            "Epoch 017/050 | Loss 1.1039 | Win/lose count 15.5/15.89999999999996 (-0.3999999999999595)\n",
            "Epoch 018/050 | Loss 1.2327 | Win/lose count 17.0/11.999999999999973 (5.000000000000027)\n",
            "Epoch 019/050 | Loss 1.2908 | Win/lose count 6.5/17.59999999999998 (-11.09999999999998)\n",
            "Epoch 020/050 | Loss 1.2772 | Win/lose count 9.5/16.99999999999997 (-7.499999999999972)\n",
            "Epoch 021/050 | Loss 1.1663 | Win/lose count 23.0/11.299999999999976 (11.700000000000024)\n",
            "Epoch 022/050 | Loss 1.1331 | Win/lose count 17.5/12.399999999999972 (5.100000000000028)\n",
            "Epoch 023/050 | Loss 0.9977 | Win/lose count 18.5/14.79999999999997 (3.7000000000000295)\n",
            "Epoch 024/050 | Loss 1.1261 | Win/lose count 25.5/10.599999999999978 (14.900000000000022)\n",
            "Epoch 025/050 | Loss 1.0066 | Win/lose count 17.5/15.699999999999964 (1.8000000000000362)\n",
            "Epoch 026/050 | Loss 1.0842 | Win/lose count 25.0/10.799999999999978 (14.200000000000022)\n",
            "Epoch 027/050 | Loss 0.9996 | Win/lose count 22.0/13.699999999999978 (8.300000000000022)\n",
            "Epoch 028/050 | Loss 0.9824 | Win/lose count 23.5/10.499999999999979 (13.000000000000021)\n",
            "Epoch 029/050 | Loss 1.1977 | Win/lose count 18.5/13.599999999999968 (4.900000000000032)\n",
            "Epoch 030/050 | Loss 1.0732 | Win/lose count 25.0/9.799999999999981 (15.200000000000019)\n",
            "Epoch 031/050 | Loss 1.0246 | Win/lose count 11.5/17.69999999999999 (-6.199999999999989)\n",
            "Epoch 032/050 | Loss 0.9154 | Win/lose count 18.5/10.99999999999998 (7.5000000000000195)\n",
            "Epoch 033/050 | Loss 0.9218 | Win/lose count 15.5/13.699999999999967 (1.8000000000000327)\n",
            "Epoch 034/050 | Loss 0.7868 | Win/lose count 23.5/14.899999999999975 (8.600000000000025)\n",
            "Epoch 035/050 | Loss 0.9521 | Win/lose count 19.5/12.899999999999972 (6.600000000000028)\n",
            "Epoch 036/050 | Loss 0.8270 | Win/lose count 24.5/8.799999999999985 (15.700000000000015)\n",
            "Epoch 037/050 | Loss 0.9392 | Win/lose count 25.0/9.799999999999985 (15.200000000000015)\n",
            "Epoch 038/050 | Loss 0.8115 | Win/lose count 21.0/15.299999999999967 (5.700000000000033)\n",
            "Epoch 039/050 | Loss 0.5935 | Win/lose count 25.5/11.999999999999979 (13.500000000000021)\n",
            "Epoch 040/050 | Loss 0.7028 | Win/lose count 25.5/9.99999999999998 (15.50000000000002)\n",
            "Epoch 041/050 | Loss 0.6391 | Win/lose count 29.5/15.699999999999976 (13.800000000000024)\n",
            "Epoch 042/050 | Loss 0.9142 | Win/lose count 20.5/12.399999999999972 (8.100000000000028)\n",
            "Epoch 043/050 | Loss 0.7921 | Win/lose count 27.0/13.899999999999977 (13.100000000000023)\n",
            "Epoch 044/050 | Loss 0.7592 | Win/lose count 27.0/11.799999999999981 (15.200000000000019)\n",
            "Epoch 045/050 | Loss 0.8796 | Win/lose count 20.5/15.699999999999964 (4.800000000000036)\n",
            "Epoch 046/050 | Loss 0.6053 | Win/lose count 26.0/8.199999999999987 (17.80000000000001)\n",
            "Epoch 047/050 | Loss 0.6391 | Win/lose count 20.5/11.799999999999981 (8.700000000000019)\n",
            "Epoch 048/050 | Loss 0.7041 | Win/lose count 10.5/17.199999999999978 (-6.699999999999978)\n",
            "Epoch 049/050 | Loss 0.6350 | Win/lose count 18.5/13.399999999999972 (5.100000000000028)\n"
          ],
          "name": "stdout"
        },
        {
          "output_type": "execute_result",
          "data": {
            "text/html": [
              "<video alt=\"test\" controls>\n",
              "                <source src=\"data:video/mp4;base64,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\" type=\"video/mp4\" />\n",
              "             </video>"
            ],
            "text/plain": [
              "<IPython.core.display.HTML object>"
            ]
          },
          "metadata": {
            "tags": []
          },
          "execution_count": 146
        }
      ]
    },
    {
      "cell_type": "code",
      "metadata": {
        "colab_type": "code",
        "id": "2mVtZJm611zj",
        "colab": {
          "base_uri": "https://localhost:8080/",
          "height": 1000
        },
        "outputId": "f33dde08-2012-45c6-cb37-a3fb3ce0e699"
      },
      "source": [
        "# Evaluation\n",
        "test(agent,env,epochs_test,prefix='cnn_test_explore')\n",
        "HTML(display_videos('cnn_test_explore10.mp4'))"
      ],
      "execution_count": 147,
      "outputs": [
        {
          "output_type": "stream",
          "text": [
            "Win/lose count 19.5/2.0. Average score (17.5)\n",
            "Win/lose count 21.0/4.0. Average score (17.25)\n",
            "Win/lose count 22.0/4.0. Average score (17.5)\n",
            "Win/lose count 20.5/4.0. Average score (17.25)\n",
            "Win/lose count 23.0/2.0. Average score (18.0)\n",
            "Win/lose count 6.5/0. Average score (16.083333333333332)\n",
            "Win/lose count 22.0/1.0. Average score (16.785714285714285)\n",
            "Win/lose count 26.0/4.0. Average score (17.4375)\n",
            "Win/lose count 25.0/3.0. Average score (17.944444444444443)\n",
            "Win/lose count 23.0/5.0. Average score (17.95)\n",
            "Win/lose count 18.0/3.0. Average score (17.681818181818183)\n",
            "Win/lose count 16.5/2.0. Average score (17.416666666666668)\n",
            "Win/lose count 24.5/7.0. Average score (17.423076923076923)\n",
            "Win/lose count 22.0/4.0. Average score (17.464285714285715)\n",
            "Win/lose count 28.5/2.0. Average score (18.066666666666666)\n",
            "Win/lose count 24.5/3.0. Average score (18.28125)\n",
            "Win/lose count 18.0/4.0. Average score (18.029411764705884)\n",
            "Win/lose count 21.0/4.0. Average score (17.97222222222222)\n",
            "Win/lose count 17.0/0. Average score (17.92105263157895)\n",
            "Win/lose count 21.0/1.0. Average score (18.025)\n",
            "Win/lose count 21.0/2.0. Average score (18.071428571428573)\n",
            "Win/lose count 19.5/4.0. Average score (17.954545454545453)\n",
            "Win/lose count 22.0/4.0. Average score (17.956521739130434)\n",
            "Win/lose count 25.0/1.0. Average score (18.208333333333332)\n",
            "Win/lose count 21.5/4.0. Average score (18.18)\n",
            "Win/lose count 12.5/3.0. Average score (17.846153846153847)\n",
            "Win/lose count 27.0/4.0. Average score (18.037037037037038)\n",
            "Win/lose count 18.5/2.0. Average score (17.982142857142858)\n",
            "Win/lose count 16.0/2.0. Average score (17.844827586206897)\n",
            "Win/lose count 24.0/6.0. Average score (17.85)\n",
            "Win/lose count 28.0/3.0. Average score (18.080645161290324)\n",
            "Win/lose count 20.0/4.0. Average score (18.015625)\n",
            "Win/lose count 22.5/3.0. Average score (18.060606060606062)\n",
            "Win/lose count 26.0/3.0. Average score (18.205882352941178)\n",
            "Win/lose count 11.0/1.0. Average score (17.97142857142857)\n",
            "Win/lose count 16.5/1.0. Average score (17.90277777777778)\n",
            "Win/lose count 16.0/1.0. Average score (17.824324324324323)\n",
            "Win/lose count 24.5/4.0. Average score (17.894736842105264)\n",
            "Win/lose count 20.5/3.0. Average score (17.884615384615383)\n",
            "Win/lose count 21.0/1.0. Average score (17.9375)\n",
            "Win/lose count 24.0/5.0. Average score (17.963414634146343)\n",
            "Win/lose count 19.5/2.0. Average score (17.952380952380953)\n",
            "Win/lose count 26.0/5.0. Average score (18.023255813953487)\n",
            "Win/lose count 14.5/2.0. Average score (17.897727272727273)\n",
            "Win/lose count 20.5/9.0. Average score (17.755555555555556)\n",
            "Win/lose count 20.5/5.0. Average score (17.706521739130434)\n",
            "Win/lose count 25.5/9.0. Average score (17.680851063829788)\n",
            "Win/lose count 27.0/9.0. Average score (17.6875)\n",
            "Win/lose count 23.0/5.0. Average score (17.693877551020407)\n",
            "Win/lose count 27.5/4.0. Average score (17.81)\n",
            "Final score: 17.81\n"
          ],
          "name": "stdout"
        },
        {
          "output_type": "execute_result",
          "data": {
            "text/html": [
              "<video alt=\"test\" controls>\n",
              "                <source src=\"data:video/mp4;base64,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\" type=\"video/mp4\" />\n",
              "             </video>"
            ],
            "text/plain": [
              "<IPython.core.display.HTML object>"
            ]
          },
          "metadata": {
            "tags": []
          },
          "execution_count": 147
        }
      ]
    },
    {
      "cell_type": "markdown",
      "metadata": {
        "colab_type": "text",
        "id": "NevdhWIJ11zm"
      },
      "source": [
        "***\n",
        "***\n",
        "__BONUS question__ Use the expert DQN from the previous question to generate some winning games. Train a model that mimicks its behavior. Compare the performances."
      ]
    },
    {
      "cell_type": "markdown",
      "metadata": {
        "colab_type": "text",
        "id": "cZT-jtFX11zn"
      },
      "source": [
        ""
      ]
    },
    {
      "cell_type": "markdown",
      "metadata": {
        "colab_type": "text",
        "id": "h1kclFvt11zo"
      },
      "source": [
        "***"
      ]
    }
  ]
}